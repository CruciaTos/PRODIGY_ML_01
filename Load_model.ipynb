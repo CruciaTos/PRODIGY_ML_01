{
 "cells": [
  {
   "cell_type": "code",
   "execution_count": 32,
   "id": "a9ee7bd5-762e-41ba-b9ab-776571516876",
   "metadata": {},
   "outputs": [],
   "source": [
    "import pandas as pd\n",
    "import joblib\n",
    "import numpy as np"
   ]
  },
  {
   "cell_type": "code",
   "execution_count": 40,
   "id": "e89e0eb6-2bc0-47d2-951f-3298d8a25864",
   "metadata": {},
   "outputs": [],
   "source": [
    "model_path = r\"C:\\Users\\Soham\\Desktop\\Soham\\Practices\\Submission\\trained_model.pkl\""
   ]
  },
  {
   "cell_type": "code",
   "execution_count": 42,
   "id": "84b16a74-184b-4d1a-97fa-1a91023d36f5",
   "metadata": {},
   "outputs": [],
   "source": [
    "test_file_path = r\"C:\\Users\\Soham\\Desktop\\Soham\\Practices\\Submission\\test.csv\""
   ]
  },
  {
   "cell_type": "code",
   "execution_count": 44,
   "id": "94b2b141-24f5-492f-a79b-800e23552d88",
   "metadata": {},
   "outputs": [],
   "source": [
    "output_path = r\"C:\\Users\\Soham\\Desktop\\Soham\\Practices\\Submission\\submission_from_loaded_model.csv\""
   ]
  },
  {
   "cell_type": "code",
   "execution_count": 50,
   "id": "6f4ad7c2-abc7-4584-8847-2075d5956737",
   "metadata": {},
   "outputs": [],
   "source": [
    "model = joblib.load(model_path)"
   ]
  },
  {
   "cell_type": "code",
   "execution_count": 52,
   "id": "d57a6911-f5b9-4e93-9e5e-c3841dc2c7f4",
   "metadata": {},
   "outputs": [],
   "source": [
    "testing_data = pd.read_csv(test_file_path)"
   ]
  },
  {
   "cell_type": "code",
   "execution_count": 54,
   "id": "54b9caa0-8c98-4895-9c23-ea72d208547c",
   "metadata": {},
   "outputs": [],
   "source": [
    "Input_to_learn = ['GrLivArea', 'BedroomAbvGr', 'FullBath', 'HalfBath']\n",
    "test_X = testing_data[Input_to_learn]"
   ]
  },
  {
   "cell_type": "code",
   "execution_count": 56,
   "id": "e32fdff0-b545-45c3-aa41-be94b9118ad4",
   "metadata": {},
   "outputs": [],
   "source": [
    "test_preds = model.predict(test_X)\n",
    "test_preds = np.ravel(test_preds)"
   ]
  },
  {
   "cell_type": "code",
   "execution_count": 62,
   "id": "92d84560-4949-494f-bed0-472251c92ded",
   "metadata": {},
   "outputs": [],
   "source": [
    "submission = pd.DataFrame({\n",
    "    'Id': testing_data['Id'],\n",
    "    'SalePrice': test_preds\n",
    "})"
   ]
  },
  {
   "cell_type": "code",
   "execution_count": 68,
   "id": "614b2623-8a63-42f2-92f4-fc6ddf4aede2",
   "metadata": {},
   "outputs": [
    {
     "name": "stdout",
     "output_type": "stream",
     "text": [
      "Submission saved at: C:\\Users\\Soham\\Desktop\\Soham\\Practices\\Submission\\submission_from_loaded_model.csv\n"
     ]
    }
   ],
   "source": [
    "submission.to_csv(output_path, index=False)\n",
    "print(f\"Submission saved at: {output_path}\")"
   ]
  },
  {
   "cell_type": "code",
   "execution_count": null,
   "id": "da2e36c8-0dcd-41f4-92eb-7220fd708e8a",
   "metadata": {},
   "outputs": [],
   "source": []
  }
 ],
 "metadata": {
  "kernelspec": {
   "display_name": "Python [conda env:base] *",
   "language": "python",
   "name": "conda-base-py"
  },
  "language_info": {
   "codemirror_mode": {
    "name": "ipython",
    "version": 3
   },
   "file_extension": ".py",
   "mimetype": "text/x-python",
   "name": "python",
   "nbconvert_exporter": "python",
   "pygments_lexer": "ipython3",
   "version": "3.12.8"
  }
 },
 "nbformat": 4,
 "nbformat_minor": 5
}
